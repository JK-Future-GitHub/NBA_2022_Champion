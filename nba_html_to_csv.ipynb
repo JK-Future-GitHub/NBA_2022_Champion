{
 "cells": [
  {
   "cell_type": "markdown",
   "metadata": {},
   "source": [
    "![](pngs/nba_html_to_csv.png)\n",
    "1. Define Foundation\n",
    "2. NBA Seasons To CSV"
   ]
  },
  {
   "cell_type": "markdown",
   "metadata": {},
   "source": [
    "### ➤ 1 Define Foundation "
   ]
  },
  {
   "cell_type": "code",
   "execution_count": 1,
   "metadata": {},
   "outputs": [],
   "source": [
    "import os\n",
    "import sys\n",
    "import pandas as pd\n",
    "from bs4 import BeautifulSoup"
   ]
  },
  {
   "cell_type": "code",
   "execution_count": 2,
   "metadata": {},
   "outputs": [],
   "source": [
    "DATA_PATH = r\"C:\\Users\\knaue\\Documents\\Data\\NBA\"\n",
    "SEASON_HTML_PATH = os.path.join(DATA_PATH, \"SEASON_HTML\")\n",
    "\n",
    "SEASON_DETAIL_PATH = os.path.join(DATA_PATH, \"Season_Detail_Urls.csv\")\n",
    "NBA_SEASON_DETAIL_PATH = os.path.join(DATA_PATH, \"NBA_Season_Detail.csv\")\n",
    "\n",
    "PARSER = 'lxml'"
   ]
  },
  {
   "cell_type": "code",
   "execution_count": 3,
   "metadata": {},
   "outputs": [],
   "source": [
    "# Some infomations are hidden in comments --> convert comments in normal html code\n",
    "def filter_out_comment(soup: BeautifulSoup) -> BeautifulSoup:\n",
    "    content = str(soup).replace('<!--', '')\n",
    "    content = content.replace('-->', '')\n",
    "    return BeautifulSoup(content, PARSER)"
   ]
  },
  {
   "cell_type": "code",
   "execution_count": 4,
   "metadata": {},
   "outputs": [],
   "source": [
    "def get_season_summary(df: pd.DataFrame, url: str):\n",
    "    html_path = os.path.join(SEASON_HTML_PATH, url.replace(\"/\", \"{\").replace(\":\", \"}\"))\n",
    "    dfs = []\n",
    "    \n",
    "    with open(html_path, 'r', encoding=\"utf-8-sig\") as f:\n",
    "        content = BeautifulSoup(f.read(), PARSER)\n",
    "        \n",
    "        table_team = content.find(\"table\", id=\"per_game-team\")\n",
    "        table_team_opp = content.find(\"table\", id=\"per_game-opponent\")\n",
    "        table_team_adv = content.find(\"table\", id=\"advanced-team\")\n",
    "        \n",
    "        for idx, table in enumerate([table_team, table_team_opp, table_team_adv]): \n",
    "            df_team = pd.read_html(str(table))[0]\n",
    "            if idx == 2: \n",
    "                df_team = df_team.droplevel(0, axis=1)\n",
    "            \n",
    "            df_team = df_team.drop([col for col in df_team.columns if \"Unnamed:\" in col], axis=\"columns\", inplace=False)\n",
    "            del df_team['Rk']\n",
    "            \n",
    "            df_team = df_team[:-1]\n",
    "            df_team['Team'] = df_team['Team'].str.replace(\"\\*\", \"\", regex=True)\n",
    "            \n",
    "            if idx == 1: \n",
    "                df_team.columns = [f\"{col}_opp\" if col != \"Team\" else col for col in df_team.columns]\n",
    "            \n",
    "            dfs.append(df_team)   \n",
    "            \n",
    "        f.close()\n",
    "        \n",
    "    for df_table in dfs: \n",
    "        df = df.merge(right=df_table, how=\"left\", on=\"Team\", validate=\"one_to_one\")   \n",
    "    return df   "
   ]
  },
  {
   "cell_type": "code",
   "execution_count": 5,
   "metadata": {},
   "outputs": [],
   "source": [
    "def get_season_standing(df: pd.DataFrame, url: str):\n",
    "    html_path = os.path.join(SEASON_HTML_PATH, url.replace(\"/\", \"{\").replace(\":\", \"}\"))\n",
    "    dfs = []\n",
    "    \n",
    "    with open(html_path, 'r', encoding=\"utf-8-sig\") as f:\n",
    "        content = filter_out_comment(BeautifulSoup(f.read(), PARSER))\n",
    "        table_team = content.find(\"table\", id=\"expanded_standings\")\n",
    "        df_team = pd.read_html(str(table_team))[0]\n",
    "        \n",
    "        df_team = df_team.droplevel(0, axis=1)\n",
    "        df_team = df_team.drop([col for col in df_team.columns if col not in ['Team', 'Overall', 'Home', 'Road', 'Pre', 'Post', '≤3', '≥10', 'Oct', 'Nov', 'Dec', 'Jan', 'Feb', 'Mar', 'Apr']], \n",
    "                               axis=\"columns\", \n",
    "                               inplace=False)\n",
    "        \n",
    "        df = df.merge(right=df_team, how=\"left\", on=\"Team\", validate=\"one_to_one\")\n",
    "        f.close()\n",
    "        \n",
    "    return df"
   ]
  },
  {
   "cell_type": "code",
   "execution_count": 6,
   "metadata": {},
   "outputs": [],
   "source": [
    "def champion_in_percent(cell: float):\n",
    "    if cell == 0: return 0 \n",
    "    if cell == 1: return 100\n",
    "    if cell == 2: return 50\n",
    "    if cell == 3 or cell == 4: return 25\n",
    "    if cell >= 5 and cell <= 8: return 12.5\n",
    "    if cell >= 9 and cell <= 16: return 6.25\n",
    "    if cell >= 17 and cell <= 32: return 3.125"
   ]
  },
  {
   "cell_type": "code",
   "execution_count": 7,
   "metadata": {},
   "outputs": [],
   "source": [
    "def get_playoff_standing(df: pd.DataFrame, url: str):\n",
    "    html_path = os.path.join(SEASON_HTML_PATH, url.replace(\"/\", \"{\").replace(\":\", \"}\"))\n",
    "    dfs = []\n",
    "    \n",
    "    with open(html_path, 'r', encoding=\"utf-8-sig\") as f:\n",
    "        content = filter_out_comment(BeautifulSoup(f.read(), PARSER))\n",
    "        table_team = content.find(\"table\", id=\"expanded_standings\")\n",
    "        df_team = pd.read_html(str(table_team))[0]\n",
    "        \n",
    "        df_team = df_team.droplevel(0, axis=1)\n",
    "        df_team = df_team.drop([col for col in df_team.columns if col not in ['Rk', 'Team']], \n",
    "                               axis=\"columns\", \n",
    "                               inplace=False)\n",
    "        \n",
    "        df = df.merge(right=df_team, how=\"left\", on=\"Team\", validate=\"one_to_one\")\n",
    "        df['Rk'] = df['Rk'].fillna(0)\n",
    "        df['Champion_Percent'] = df['Rk'].apply(lambda x: champion_in_percent(cell=x))\n",
    "        f.close()\n",
    "           \n",
    "    return df"
   ]
  },
  {
   "cell_type": "markdown",
   "metadata": {},
   "source": [
    "### ➤ 2 NBA Seasons To CSV"
   ]
  },
  {
   "cell_type": "code",
   "execution_count": 8,
   "metadata": {},
   "outputs": [
    {
     "name": "stdout",
     "output_type": "stream",
     "text": [
      "Season Summary\n",
      "73/73...\n",
      "Season Standings\n",
      "73/73...\n",
      "Playoff Standings\n",
      "73/73...\n",
      "Saved to:  C:\\Users\\knaue\\Documents\\Data\\NBA\\NBA_Season_Detail.csv\n"
     ]
    }
   ],
   "source": [
    "df_season_detail = pd.read_csv(SEASON_DETAIL_PATH, encoding=\"utf-8-sig\")\n",
    "df_season_detail = df_season_detail.drop([col for col in df_season_detail.columns if \"Unnamed:\" in col], axis=\"columns\", inplace=False)\n",
    "df_season_detail = df_season_detail[df_season_detail['Lg'] == \"NBA\"]\n",
    "\n",
    "df_season_sum = []\n",
    "df_season_sta = []\n",
    "df_playoff_sta = []\n",
    "\n",
    "# Season Summary-------------------------------------------------------------------------------\n",
    "print(\"Season Summary\")\n",
    "i = 0\n",
    "for url_season_sum in df_season_detail['Url_Season_Summary'].unique(): \n",
    "    i += 1\n",
    "    sys.stdout.write(f\"\\r{i}/{len(df_season_detail['Url_Season_Summary'].unique())}...\")\n",
    "    \n",
    "    df = df_season_detail[df_season_detail['Url_Season_Summary'] == url_season_sum]\n",
    "    df = get_season_summary(df[['Team', 'Season', 'Lg']], url_season_sum)\n",
    "    df_season_sum.append(df)\n",
    "\n",
    "# Season Standings-----------------------------------------------------------------------------   \n",
    "print(\"\\nSeason Standings\")\n",
    "i = 0     \n",
    "for url_season_sta in df_season_detail['Url_Season_Standings'].unique():\n",
    "    i += 1\n",
    "    sys.stdout.write(f\"\\r{i}/{len(df_season_detail['Url_Season_Standings'].unique())}...\")\n",
    "    \n",
    "    df = df_season_detail[df_season_detail['Url_Season_Standings'] == url_season_sta]\n",
    "    df = get_season_standing(df[['Team', 'Season', 'Lg']], url_season_sta)\n",
    "    df_season_sta.append(df)\n",
    "\n",
    "# Playoff Standings----------------------------------------------------------------------------    \n",
    "print(\"\\nPlayoff Standings\")\n",
    "i = 0     \n",
    "for url_playoff_sta in df_season_detail['Url_Playoff_Standings'].unique():\n",
    "    i += 1\n",
    "    sys.stdout.write(f\"\\r{i}/{len(df_season_detail['Url_Playoff_Standings'].unique())}...\")\n",
    "    \n",
    "    df = df_season_detail[df_season_detail['Url_Playoff_Standings'] == url_playoff_sta]\n",
    "    df = get_playoff_standing(df[['Team', 'Season', 'Lg']], url_playoff_sta)\n",
    "    df_playoff_sta.append(df)\n",
    "\n",
    "\n",
    "#Merge Summary and Standings-------------------------------------------------------------------\n",
    "df_season_sum = pd.concat(df_season_sum, ignore_index=True)\n",
    "df_season_detail = df_season_detail.merge(right=df_season_sum, how=\"left\", on=['Team', 'Season', 'Lg'], validate=\"one_to_one\")\n",
    "\n",
    "df_season_sta = pd.concat(df_season_sta, ignore_index=True)\n",
    "df_season_detail = df_season_detail.merge(right=df_season_sta, how=\"left\", on=['Team', 'Season', 'Lg'], validate=\"one_to_one\")\n",
    "\n",
    "df_playoff_sta = pd.concat(df_playoff_sta, ignore_index=True)\n",
    "df_season_detail = df_season_detail.merge(right=df_playoff_sta, how=\"left\", on=['Team', 'Season', 'Lg'], validate=\"one_to_one\")\n",
    "\n",
    "\n",
    "df_season_detail.to_csv(NBA_SEASON_DETAIL_PATH, index=False, encoding=\"utf-8-sig\")\n",
    "print(\"\\nSaved to: \", NBA_SEASON_DETAIL_PATH)"
   ]
  }
 ],
 "metadata": {
  "interpreter": {
   "hash": "aa6708a3e9a8fadf3ed03c473ecc2d2a3bf5cea3ad7526930f095379c19fd7a0"
  },
  "kernelspec": {
   "display_name": "Python 3.10.4 64-bit",
   "language": "python",
   "name": "python3"
  },
  "language_info": {
   "codemirror_mode": {
    "name": "ipython",
    "version": 3
   },
   "file_extension": ".py",
   "mimetype": "text/x-python",
   "name": "python",
   "nbconvert_exporter": "python",
   "pygments_lexer": "ipython3",
   "version": "3.10.4"
  },
  "orig_nbformat": 4
 },
 "nbformat": 4,
 "nbformat_minor": 2
}
